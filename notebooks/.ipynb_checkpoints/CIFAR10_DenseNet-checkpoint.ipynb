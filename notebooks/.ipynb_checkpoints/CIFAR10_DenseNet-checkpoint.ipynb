{
 "cells": [
  {
   "cell_type": "code",
   "execution_count": 36,
   "metadata": {},
   "outputs": [
    {
     "name": "stdout",
     "output_type": "stream",
     "text": [
      "['/home/antixk/Anand/NeuralBlocks/notebooks', '/home/antixk/miniconda3/envs/main/lib/python37.zip', '/home/antixk/miniconda3/envs/main/lib/python3.7', '/home/antixk/miniconda3/envs/main/lib/python3.7/lib-dynload', '', '/home/antixk/miniconda3/envs/main/lib/python3.7/site-packages', '/home/antixk/miniconda3/envs/main/lib/python3.7/site-packages/IPython/extensions', '/home/antixk/.ipython', '/home/antixk/Anand/', '/home/antixk/Anand/', '/home/antixk/Anand/', '/home/antixk/Anand/']\n"
     ]
    }
   ],
   "source": [
    "import torch\n",
    "import torch.nn as nn\n",
    "import torch.optim as optim\n",
    "import torch.nn.functional as F\n",
    "import torch.backends.cudnn as cudnn\n",
    "import torchvision\n",
    "import torchvision.transforms as transforms\n",
    "from tqdm import tqdm_notebook\n",
    "import sys\n",
    "import os\n",
    "from numpy import savetxt\n",
    "\n",
    "sys.path.append('/home/antixk/Anand/')\n",
    "print(sys.path)\n",
    "\n",
    "from NeuralBlocks.models.densenet import DenseNet"
   ]
  },
  {
   "cell_type": "code",
   "execution_count": 37,
   "metadata": {},
   "outputs": [],
   "source": [
    "NUM_EPOCH = 200\n",
    "BATCH_SIZE = 64\n",
    "CHECKPOINT_INTERVAL = 100\n",
    "LR = 0.0002\n",
    "NORM = 'BN'\n",
    "DATA_PATH = \"/home/antixk/Anand/NeuralBlocks/data_utils/datasets/CIFAR10/\"\n",
    "SAVE_PATH = \"/home/antixk/Anand/NeuralBlocks/experiments/CIFAR10/\"\n",
    "\n",
    "os.makedirs(SAVE_PATH, exist_ok=True)"
   ]
  },
  {
   "cell_type": "code",
   "execution_count": 3,
   "metadata": {},
   "outputs": [
    {
     "name": "stdout",
     "output_type": "stream",
     "text": [
      "Files already downloaded and verified\n",
      "Files already downloaded and verified\n"
     ]
    }
   ],
   "source": [
    "transform_train = transforms.Compose([\n",
    "    transforms.RandomCrop(32, padding=4),\n",
    "    transforms.RandomHorizontalFlip(),\n",
    "    transforms.ToTensor(),\n",
    "    transforms.Normalize((0.4914, 0.4822, 0.4465), (0.2023, 0.1994, 0.2010)),\n",
    "])\n",
    "\n",
    "transform_test = transforms.Compose([\n",
    "    transforms.ToTensor(),\n",
    "    transforms.Normalize((0.4914, 0.4822, 0.4465), (0.2023, 0.1994, 0.2010)),\n",
    "])\n",
    "\n",
    "trainset = torchvision.datasets.CIFAR10(root=DATA_PATH, train=True, download=True, transform=transform_train)\n",
    "trainloader = torch.utils.data.DataLoader(trainset, batch_size=128, shuffle=True, num_workers=8)\n",
    "\n",
    "testset = torchvision.datasets.CIFAR10(root=DATA_PATH, train=False, download=True, transform=transform_test)\n",
    "testloader = torch.utils.data.DataLoader(testset, batch_size=100, shuffle=False, num_workers=2)"
   ]
  },
  {
   "cell_type": "code",
   "execution_count": 28,
   "metadata": {},
   "outputs": [],
   "source": [
    "cudnn.benchmark = True"
   ]
  },
  {
   "cell_type": "code",
   "execution_count": 31,
   "metadata": {},
   "outputs": [],
   "source": [
    "def train(epoch):\n",
    "    net.train()\n",
    "    train_loss = 0\n",
    "    correct = 0\n",
    "    total = 0\n",
    "    for batch_idx, (inputs, targets) in enumerate(trainloader):\n",
    "        inputs, targets = inputs.cuda(), targets.cuda()\n",
    "        optimizer.zero_grad()\n",
    "        outputs = net(inputs)\n",
    "        loss = criterion(outputs, targets)\n",
    "        loss.backward()\n",
    "        optimizer.step()\n",
    "\n",
    "        train_loss += loss.item()\n",
    "        _, predicted = outputs.max(1)\n",
    "        total += targets.size(0)\n",
    "        correct += predicted.eq(targets).sum().item()\n",
    "        \n",
    "        train_loss_log.append(train_loss/(batch_idx+1))\n",
    "        train_acc_log.append( 100.*correct/total)\n",
    "        \n",
    "        if(batch_idx%CHECKPOINT_INTERVAL==0):\n",
    "             print(\"Train Epoch [{:3d}/{:3d}]Batch [{:3d}/{:3d}] Loss: {:.3f} Acc {:.3f}%\".format(epoch, NUM_EPOCH,batch_idx, len(trainloader),\n",
    "                train_loss/(batch_idx+1), 100.*correct/total))\n",
    "\n",
    "def test(epoch):\n",
    "    global best_acc\n",
    "    net.eval()\n",
    "    test_loss = 0\n",
    "    correct = 0\n",
    "    total = 0\n",
    "    with torch.no_grad():\n",
    "        for batch_idx, (inputs, targets) in enumerate(testloader):\n",
    "            inputs, targets = inputs.cuda(), targets.cuda()\n",
    "            outputs = net(inputs)\n",
    "            loss = criterion(outputs, targets)\n",
    "\n",
    "            test_loss += loss.item()\n",
    "            _, predicted = outputs.max(1)\n",
    "            total += targets.size(0)\n",
    "            correct += predicted.eq(targets).sum().item()\n",
    "            \n",
    "            test_loss_log.append(test_loss/(batch_idx+1))\n",
    "            test_acc_log.append( 100.*correct/total)\n",
    "        \n",
    "            if(batch_idx%CHECKPOINT_INTERVAL==0):\n",
    "                print(\"Test Epoch [{:3d}/{:3d}]Batch [{:3d}/{:3d}] Loss: {:.3f} Acc {:.3f}%\".format(epoch, NUM_EPOCH,batch_idx, len(testloader),\n",
    "                test_loss/(batch_idx+1), 100.*correct/total))\n",
    "\n",
    "    # Save checkpoint.\n",
    "    acc = 100.*correct/total\n",
    "    if acc > best_acc:\n",
    "        print('Saving..')\n",
    "        state = {\n",
    "            'net': net.state_dict(),\n",
    "            'acc': acc,\n",
    "            'epoch': epoch,\n",
    "        }\n",
    "        if not os.path.isdir(SAVE_PATH+'checkpoint'):\n",
    "            os.mkdir(SAVE_PATH+'checkpoint')\n",
    "        torch.save(state, SAVE_PATH+'checkpoint/ckpt.pth')\n",
    "        best_acc = acc"
   ]
  },
  {
   "cell_type": "code",
   "execution_count": 38,
   "metadata": {},
   "outputs": [
    {
     "data": {
      "application/vnd.jupyter.widget-view+json": {
       "model_id": "17c8f1b80dc94ab19b37bee31e2d299e",
       "version_major": 2,
       "version_minor": 0
      },
      "text/plain": [
       "HBox(children=(IntProgress(value=0, max=5), HTML(value='')))"
      ]
     },
     "metadata": {},
     "output_type": "display_data"
    },
    {
     "name": "stdout",
     "output_type": "stream",
     "text": [
      "Train Epoch [  0/200]Batch [  0/391] Loss: 1.117 Acc 67.969%\n",
      "Train Epoch [  0/200]Batch [100/391] Loss: 1.149 Acc 61.069%\n",
      "Train Epoch [  0/200]Batch [200/391] Loss: 1.142 Acc 60.934%\n",
      "Train Epoch [  0/200]Batch [300/391] Loss: 1.143 Acc 60.823%\n",
      "Test Epoch [  0/200]Batch [  0/100] Loss: 0.956 Acc 71.000%\n",
      "Saving..\n",
      "Train Epoch [  1/200]Batch [  0/391] Loss: 1.029 Acc 61.719%\n",
      "Train Epoch [  1/200]Batch [100/391] Loss: 1.134 Acc 61.293%\n",
      "Train Epoch [  1/200]Batch [200/391] Loss: 1.134 Acc 61.229%\n",
      "Train Epoch [  1/200]Batch [300/391] Loss: 1.135 Acc 61.290%\n",
      "Test Epoch [  1/200]Batch [  0/100] Loss: 0.949 Acc 71.000%\n",
      "Train Epoch [  2/200]Batch [  0/391] Loss: 1.159 Acc 59.375%\n",
      "Train Epoch [  2/200]Batch [100/391] Loss: 1.129 Acc 61.185%\n",
      "Train Epoch [  2/200]Batch [200/391] Loss: 1.127 Acc 61.563%\n",
      "Train Epoch [  2/200]Batch [300/391] Loss: 1.127 Acc 61.412%\n",
      "Test Epoch [  2/200]Batch [  0/100] Loss: 0.959 Acc 70.000%\n",
      "Train Epoch [  3/200]Batch [  0/391] Loss: 1.053 Acc 58.594%\n",
      "Train Epoch [  3/200]Batch [100/391] Loss: 1.117 Acc 61.843%\n",
      "Train Epoch [  3/200]Batch [200/391] Loss: 1.124 Acc 61.657%\n",
      "Train Epoch [  3/200]Batch [300/391] Loss: 1.125 Acc 61.680%\n",
      "Test Epoch [  3/200]Batch [  0/100] Loss: 0.983 Acc 68.000%\n",
      "Saving..\n",
      "Train Epoch [  4/200]Batch [  0/391] Loss: 1.095 Acc 60.938%\n",
      "Train Epoch [  4/200]Batch [100/391] Loss: 1.116 Acc 61.541%\n",
      "Train Epoch [  4/200]Batch [200/391] Loss: 1.118 Acc 61.625%\n",
      "Train Epoch [  4/200]Batch [300/391] Loss: 1.122 Acc 61.571%\n",
      "Test Epoch [  4/200]Batch [  0/100] Loss: 0.952 Acc 73.000%\n",
      "Saving..\n"
     ]
    }
   ],
   "source": [
    "best_acc = 0 \n",
    "\n",
    "for lr in tqdm_notebook([0.0001, 0.001, 0.1]):\n",
    "    for norm in tqdm_notebook([None,'BN', 'MSN', 'MSNTReLU']):\n",
    "        net = DenseNet(3, 10, norm=norm).cuda()\n",
    "        criterion = nn.CrossEntropyLoss()\n",
    "        optimizer = optim.Adam(net.parameters(), lr=LR)\n",
    "\n",
    "        train_loss_log =[]\n",
    "        train_acc_log = []\n",
    "        test_loss_log =[]\n",
    "        test_acc_log =[]\n",
    "\n",
    "        for epoch in tqdm_notebook(range(NUM_EPOCH)):\n",
    "            train(epoch)\n",
    "            test(epoch)\n",
    "\n",
    "        savetxt(SAVE_PATH+\"DenseNet_Train_loss_{}_{}.npy\".format(NORM, LR), train_loss_log)  \n",
    "        savetxt(SAVE_PATH+\"DenseNet_Test_loss_{}_{}.npy\".format(NORM, LR), test_loss_log)    \n",
    "        savetxt(SAVE_PATH+\"DenseNet_Train_Acc_{}_{}.npy\".format(NORM, LR), train_acc_log)    \n",
    "        savetxt(SAVE_PATH+\"DenseNet_Test_Acc_{}_{}.npy\".format(NORM, LR), test_acc_log)   \n",
    "\n",
    "        del net"
   ]
  },
  {
   "cell_type": "code",
   "execution_count": 34,
   "metadata": {},
   "outputs": [
    {
     "data": {
      "text/plain": [
       "7820"
      ]
     },
     "execution_count": 34,
     "metadata": {},
     "output_type": "execute_result"
    }
   ],
   "source": [
    "len(train_loss_log)"
   ]
  },
  {
   "cell_type": "code",
   "execution_count": 39,
   "metadata": {},
   "outputs": [
    {
     "name": "stdout",
     "output_type": "stream",
     "text": [
      "None\n",
      "a\n"
     ]
    }
   ],
   "source": []
  },
  {
   "cell_type": "code",
   "execution_count": null,
   "metadata": {},
   "outputs": [],
   "source": []
  }
 ],
 "metadata": {
  "kernelspec": {
   "display_name": "Python 3",
   "language": "python",
   "name": "python3"
  },
  "language_info": {
   "codemirror_mode": {
    "name": "ipython",
    "version": 3
   },
   "file_extension": ".py",
   "mimetype": "text/x-python",
   "name": "python",
   "nbconvert_exporter": "python",
   "pygments_lexer": "ipython3",
   "version": "3.7.3"
  }
 },
 "nbformat": 4,
 "nbformat_minor": 2
}
