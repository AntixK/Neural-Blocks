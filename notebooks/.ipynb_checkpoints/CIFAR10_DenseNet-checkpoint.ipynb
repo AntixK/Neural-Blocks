{
 "cells": [
  {
   "cell_type": "code",
   "execution_count": 1,
   "metadata": {},
   "outputs": [
    {
     "name": "stdout",
     "output_type": "stream",
     "text": [
      "['/home/robot-i9/Desktop/Anand/NeuralBlocks/notebooks', '/home/robot-i9/Desktop/Anand/NeuralBlocks/notebooks', '', '/home/robot-i9/Downloads/pynaoqi-python2.7-2.5.5.5-linux64/lib/python2.7/site-packages', '/home/robot-i9/miniconda3/envs/main/lib/python37.zip', '/home/robot-i9/miniconda3/envs/main/lib/python3.7', '/home/robot-i9/miniconda3/envs/main/lib/python3.7/lib-dynload', '/home/robot-i9/miniconda3/envs/main/lib/python3.7/site-packages', '/home/robot-i9/miniconda3/envs/main/lib/python3.7/site-packages/IPython/extensions', '/home/robot-i9/.ipython', '/home/robot-i9/Desktop/Anand/']\n"
     ]
    }
   ],
   "source": [
    "import torch\n",
    "import torch.nn as nn\n",
    "import torch.optim as optim\n",
    "import torch.nn.functional as F\n",
    "import torch.backends.cudnn as cudnn\n",
    "import torchvision\n",
    "import torchvision.transforms as transforms\n",
    "from tqdm import tqdm_notebook\n",
    "import sys\n",
    "import os\n",
    "import numpy as np\n",
    "import matplotlib.pyplot as plt\n",
    "import seaborn as sns             \n",
    "\n",
    "sns.set_style(\"darkgrid\")\n",
    "sys.path.append('/home/robot-i9/Desktop/Anand/')\n",
    "print(sys.path)\n",
    "\n",
    "from NeuralBlocks.models.densenet import DenseNet"
   ]
  },
  {
   "cell_type": "code",
   "execution_count": 2,
   "metadata": {},
   "outputs": [],
   "source": [
    "torch.manual_seed(2456)\n",
    "cudnn.deterministic = True\n",
    "cudnn.benchmark = False\n",
    "np.random.seed(2456)\n",
    "\n",
    "NUM_EPOCH = 200\n",
    "BATCH_SIZE = 128\n",
    "CHECKPOINT_INTERVAL = 100\n",
    "LRS = [0.0001, 0.001, 0.1]\n",
    "NORMS =[None,'BN', 'SN', 'WN', 'MSN', 'MSNTReLU', 'WNTReLU']\n",
    "DATA_PATH = \"/home/robot-i9/Desktop/Anand/NeuralBlocks/data_utils/datasets/CIFAR10/\"\n",
    "SAVE_PATH = \"/home/robot-i9/Desktop/Anand/NeuralBlocks/experiments/CIFAR10/\"\n",
    "\n",
    "os.makedirs(SAVE_PATH, exist_ok=True)"
   ]
  },
  {
   "cell_type": "code",
   "execution_count": 3,
   "metadata": {},
   "outputs": [
    {
     "name": "stdout",
     "output_type": "stream",
     "text": [
      "Files already downloaded and verified\n",
      "Files already downloaded and verified\n"
     ]
    }
   ],
   "source": [
    "transform_train = transforms.Compose([\n",
    "    transforms.RandomCrop(32, padding=4),\n",
    "    transforms.RandomHorizontalFlip(),\n",
    "    transforms.ToTensor(),\n",
    "    transforms.Normalize((0.4914, 0.4822, 0.4465), (0.2023, 0.1994, 0.2010)),\n",
    "])\n",
    "\n",
    "transform_test = transforms.Compose([\n",
    "    transforms.ToTensor(),\n",
    "    transforms.Normalize((0.4914, 0.4822, 0.4465), (0.2023, 0.1994, 0.2010)),\n",
    "])\n",
    "\n",
    "trainset = torchvision.datasets.CIFAR10(root=DATA_PATH, train=True, download=True, transform=transform_train)\n",
    "trainloader = torch.utils.data.DataLoader(trainset, batch_size=BATCH_SIZE, shuffle=True, num_workers=8)\n",
    "\n",
    "testset = torchvision.datasets.CIFAR10(root=DATA_PATH, train=False, download=True, transform=transform_test)\n",
    "testloader = torch.utils.data.DataLoader(testset, batch_size=BATCH_SIZE, shuffle=False, num_workers=2)"
   ]
  },
  {
   "cell_type": "code",
   "execution_count": 4,
   "metadata": {},
   "outputs": [],
   "source": [
    "def train(epoch):\n",
    "    net.train()\n",
    "    train_loss = 0\n",
    "    correct = 0\n",
    "    total = 0\n",
    "    for batch_idx, (inputs, targets) in enumerate(trainloader):\n",
    "        inputs, targets = inputs.cuda(), targets.cuda()\n",
    "        optimizer.zero_grad()\n",
    "        outputs = net(inputs)\n",
    "        loss = criterion(outputs, targets)\n",
    "        loss.backward()\n",
    "        optimizer.step()\n",
    "\n",
    "        train_loss += loss.item()\n",
    "        _, predicted = outputs.max(1)\n",
    "        total += targets.size(0)\n",
    "        correct += predicted.eq(targets).sum().item()\n",
    "        \n",
    "        train_loss_log.append(train_loss/(batch_idx+1))\n",
    "        train_acc_log.append( 100.*correct/total)\n",
    "        \n",
    "        if(batch_idx%CHECKPOINT_INTERVAL==0):\n",
    "             print(\"Train Epoch [{:3d}/{:3d}]Batch [{:3d}/{:3d}] Loss: {:.3f} Acc {:.3f}%\".format(epoch, NUM_EPOCH,batch_idx, len(trainloader),\n",
    "                train_loss/(batch_idx+1), 100.*correct/total))\n",
    "\n",
    "def test(epoch):\n",
    "    global best_acc\n",
    "    net.eval()\n",
    "    test_loss = 0\n",
    "    correct = 0\n",
    "    total = 0\n",
    "    with torch.no_grad():\n",
    "        for batch_idx, (inputs, targets) in enumerate(testloader):\n",
    "            inputs, targets = inputs.cuda(), targets.cuda()\n",
    "            outputs = net(inputs)\n",
    "            loss = criterion(outputs, targets)\n",
    "\n",
    "            test_loss += loss.item()\n",
    "            _, predicted = outputs.max(1)\n",
    "            total += targets.size(0)\n",
    "            correct += predicted.eq(targets).sum().item()\n",
    "            \n",
    "            test_loss_log.append(test_loss/(batch_idx+1))\n",
    "            test_acc_log.append( 100.*correct/total)\n",
    "        \n",
    "            if(batch_idx%CHECKPOINT_INTERVAL==0):\n",
    "                print(\"Test Epoch [{:3d}/{:3d}]Batch [{:3d}/{:3d}] Loss: {:.3f} Acc {:.3f}%\".format(epoch, NUM_EPOCH,batch_idx, len(testloader),\n",
    "                test_loss/(batch_idx+1), 100.*correct/total))\n",
    "\n",
    "    # Save checkpoint.\n",
    "    acc = 100.*correct/total\n",
    "    if acc > best_acc:\n",
    "        print('Saving..')\n",
    "        state = {\n",
    "            'net': net.state_dict(),\n",
    "            'acc': acc,\n",
    "            'epoch': epoch,\n",
    "        }\n",
    "        if not os.path.isdir(SAVE_PATH+'checkpoint'):\n",
    "            os.mkdir(SAVE_PATH+'checkpoint')\n",
    "        torch.save(state, SAVE_PATH+'checkpoint/ckpt.pth')\n",
    "        best_acc = acc"
   ]
  },
  {
   "cell_type": "code",
   "execution_count": 5,
   "metadata": {},
   "outputs": [
    {
     "data": {
      "application/vnd.jupyter.widget-view+json": {
       "model_id": "3614f43424044077936155fe04fcc436",
       "version_major": 2,
       "version_minor": 0
      },
      "text/plain": [
       "HBox(children=(IntProgress(value=0, max=3), HTML(value='')))"
      ]
     },
     "metadata": {},
     "output_type": "display_data"
    },
    {
     "data": {
      "application/vnd.jupyter.widget-view+json": {
       "model_id": "16343b776c584c9eb8c1c0283d805395",
       "version_major": 2,
       "version_minor": 0
      },
      "text/plain": [
       "HBox(children=(IntProgress(value=0, max=7), HTML(value='')))"
      ]
     },
     "metadata": {},
     "output_type": "display_data"
    },
    {
     "data": {
      "application/vnd.jupyter.widget-view+json": {
       "model_id": "69c9f69b10864d4e863cb500ab5ae67f",
       "version_major": 2,
       "version_minor": 0
      },
      "text/plain": [
       "HBox(children=(IntProgress(value=0, max=200), HTML(value='')))"
      ]
     },
     "metadata": {},
     "output_type": "display_data"
    },
    {
     "name": "stdout",
     "output_type": "stream",
     "text": [
      "Train Epoch [  0/200]Batch [  0/391] Loss: 2.337 Acc 13.281%\n",
      "Train Epoch [  0/200]Batch [100/391] Loss: 2.154 Acc 22.679%\n",
      "Train Epoch [  0/200]Batch [200/391] Loss: 2.064 Acc 26.434%\n",
      "Train Epoch [  0/200]Batch [300/391] Loss: 2.008 Acc 28.621%\n",
      "Test Epoch [  0/200]Batch [  0/ 79] Loss: 1.727 Acc 43.750%\n",
      "Saving..\n",
      "Train Epoch [  1/200]Batch [  0/391] Loss: 1.772 Acc 42.188%\n",
      "Train Epoch [  1/200]Batch [100/391] Loss: 1.788 Acc 36.974%\n",
      "Train Epoch [  1/200]Batch [200/391] Loss: 1.757 Acc 38.382%\n",
      "Train Epoch [  1/200]Batch [300/391] Loss: 1.739 Acc 38.902%\n",
      "Test Epoch [  1/200]Batch [  0/ 79] Loss: 1.559 Acc 49.219%\n",
      "Saving..\n",
      "Train Epoch [  2/200]Batch [  0/391] Loss: 1.714 Acc 41.406%\n",
      "Train Epoch [  2/200]Batch [100/391] Loss: 1.654 Acc 41.445%\n",
      "Train Epoch [  2/200]Batch [200/391] Loss: 1.640 Acc 42.028%\n",
      "Train Epoch [  2/200]Batch [300/391] Loss: 1.633 Acc 42.014%\n",
      "Test Epoch [  2/200]Batch [  0/ 79] Loss: 1.500 Acc 49.219%\n",
      "Saving..\n",
      "Train Epoch [  3/200]Batch [  0/391] Loss: 1.591 Acc 44.531%\n",
      "\n"
     ]
    },
    {
     "ename": "KeyboardInterrupt",
     "evalue": "",
     "output_type": "error",
     "traceback": [
      "\u001b[0;31m---------------------------------------------------------------------------\u001b[0m",
      "\u001b[0;31mKeyboardInterrupt\u001b[0m                         Traceback (most recent call last)",
      "\u001b[0;32m<ipython-input-5-3c14a2cf2bc2>\u001b[0m in \u001b[0;36m<module>\u001b[0;34m\u001b[0m\n\u001b[1;32m     13\u001b[0m \u001b[0;34m\u001b[0m\u001b[0m\n\u001b[1;32m     14\u001b[0m         \u001b[0;32mfor\u001b[0m \u001b[0mepoch\u001b[0m \u001b[0;32min\u001b[0m \u001b[0mtqdm_notebook\u001b[0m\u001b[0;34m(\u001b[0m\u001b[0mrange\u001b[0m\u001b[0;34m(\u001b[0m\u001b[0mNUM_EPOCH\u001b[0m\u001b[0;34m)\u001b[0m\u001b[0;34m)\u001b[0m\u001b[0;34m:\u001b[0m\u001b[0;34m\u001b[0m\u001b[0;34m\u001b[0m\u001b[0m\n\u001b[0;32m---> 15\u001b[0;31m             \u001b[0mtrain\u001b[0m\u001b[0;34m(\u001b[0m\u001b[0mepoch\u001b[0m\u001b[0;34m)\u001b[0m\u001b[0;34m\u001b[0m\u001b[0;34m\u001b[0m\u001b[0m\n\u001b[0m\u001b[1;32m     16\u001b[0m             \u001b[0mtest\u001b[0m\u001b[0;34m(\u001b[0m\u001b[0mepoch\u001b[0m\u001b[0;34m)\u001b[0m\u001b[0;34m\u001b[0m\u001b[0;34m\u001b[0m\u001b[0m\n\u001b[1;32m     17\u001b[0m \u001b[0;34m\u001b[0m\u001b[0m\n",
      "\u001b[0;32m<ipython-input-4-268859414320>\u001b[0m in \u001b[0;36mtrain\u001b[0;34m(epoch)\u001b[0m\n\u001b[1;32m      5\u001b[0m     \u001b[0mtotal\u001b[0m \u001b[0;34m=\u001b[0m \u001b[0;36m0\u001b[0m\u001b[0;34m\u001b[0m\u001b[0;34m\u001b[0m\u001b[0m\n\u001b[1;32m      6\u001b[0m     \u001b[0;32mfor\u001b[0m \u001b[0mbatch_idx\u001b[0m\u001b[0;34m,\u001b[0m \u001b[0;34m(\u001b[0m\u001b[0minputs\u001b[0m\u001b[0;34m,\u001b[0m \u001b[0mtargets\u001b[0m\u001b[0;34m)\u001b[0m \u001b[0;32min\u001b[0m \u001b[0menumerate\u001b[0m\u001b[0;34m(\u001b[0m\u001b[0mtrainloader\u001b[0m\u001b[0;34m)\u001b[0m\u001b[0;34m:\u001b[0m\u001b[0;34m\u001b[0m\u001b[0;34m\u001b[0m\u001b[0m\n\u001b[0;32m----> 7\u001b[0;31m         \u001b[0minputs\u001b[0m\u001b[0;34m,\u001b[0m \u001b[0mtargets\u001b[0m \u001b[0;34m=\u001b[0m \u001b[0minputs\u001b[0m\u001b[0;34m.\u001b[0m\u001b[0mcuda\u001b[0m\u001b[0;34m(\u001b[0m\u001b[0;34m)\u001b[0m\u001b[0;34m,\u001b[0m \u001b[0mtargets\u001b[0m\u001b[0;34m.\u001b[0m\u001b[0mcuda\u001b[0m\u001b[0;34m(\u001b[0m\u001b[0;34m)\u001b[0m\u001b[0;34m\u001b[0m\u001b[0;34m\u001b[0m\u001b[0m\n\u001b[0m\u001b[1;32m      8\u001b[0m         \u001b[0moptimizer\u001b[0m\u001b[0;34m.\u001b[0m\u001b[0mzero_grad\u001b[0m\u001b[0;34m(\u001b[0m\u001b[0;34m)\u001b[0m\u001b[0;34m\u001b[0m\u001b[0;34m\u001b[0m\u001b[0m\n\u001b[1;32m      9\u001b[0m         \u001b[0moutputs\u001b[0m \u001b[0;34m=\u001b[0m \u001b[0mnet\u001b[0m\u001b[0;34m(\u001b[0m\u001b[0minputs\u001b[0m\u001b[0;34m)\u001b[0m\u001b[0;34m\u001b[0m\u001b[0;34m\u001b[0m\u001b[0m\n",
      "\u001b[0;31mKeyboardInterrupt\u001b[0m: "
     ]
    }
   ],
   "source": [
    "best_acc = 0 \n",
    "\n",
    "for lr in tqdm_notebook(LRS):\n",
    "    for norm in tqdm_notebook(NORMS):\n",
    "        net = DenseNet(3, 10, norm=norm).cuda()\n",
    "        criterion = nn.CrossEntropyLoss()\n",
    "        optimizer = optim.Adam(net.parameters(), lr=lr)\n",
    "\n",
    "        train_loss_log =[]\n",
    "        train_acc_log = []\n",
    "        test_loss_log =[]\n",
    "        test_acc_log =[]\n",
    "\n",
    "        for epoch in tqdm_notebook(range(NUM_EPOCH)):\n",
    "            train(epoch)\n",
    "            test(epoch)\n",
    "\n",
    "        np.save(SAVE_PATH+\"DenseNet_Train_loss_{}_{}.npy\".format(norm,lr), train_loss_log)  \n",
    "        np.save(SAVE_PATH+\"DenseNet_Test_loss_{}_{}.npy\".format(norm,lr), test_loss_log)    \n",
    "        np.save(SAVE_PATH+\"DenseNet_Train_Acc_{}_{}.npy\".format(norm,lr), train_acc_log)    \n",
    "        np.save(SAVE_PATH+\"DenseNet_Test_Acc_{}_{}.npy\".format(norm,lr), test_acc_log)   \n",
    "        del net"
   ]
  },
  {
   "cell_type": "code",
   "execution_count": null,
   "metadata": {},
   "outputs": [],
   "source": [
    "k = 0\n",
    "plt.figure(figsize=(18, 15))\n",
    "for i, lr in enumerate(tqdm_notebook(LRS)):    \n",
    "    for j, norm in enumerate(tqdm_notebook([None,'BN', 'SN', 'MSN'])):\n",
    "        print(k)\n",
    "        train_loss_log = np.load(SAVE_PATH+\"DenseNet_Train_loss_{}_{}.npy\".format(norm,lr) )  \n",
    "        test_loss_log = np.load(SAVE_PATH+\"DenseNet_Test_loss_{}_{}.npy\".format(norm,lr))    \n",
    "        train_acc_log = np.load(SAVE_PATH+\"DenseNet_Train_Acc_{}_{}.npy\".format(norm,lr))    \n",
    "        test_acc_log= np.load(SAVE_PATH+\"DenseNet_Test_Acc_{}_{}.npy\".format(norm,lr))   \n",
    "        \n",
    "        ax = plt.subplot(3,4,k+1)\n",
    "        plt.plot(train_loss_log, lw=2.5, label=str(norm))\n",
    "        plt.xlabel('Iterations', fontsize=18)\n",
    "        plt.ylabel('Train Loss', fontsize=18)     \n",
    "        plt.legend(fontsize=18)\n",
    "        plt.grid(True)\n",
    "        plt.title(\"Learning Rate ={}\".format(lr), fontsize=20);\n",
    "\n",
    "        ax = plt.subplot(3,4,k+2)\n",
    "        plt.plot(test_loss_log, lw=2.5, label=str(norm))\n",
    "        plt.xlabel('Iterations', fontsize=18)\n",
    "        plt.ylabel('Test Loss', fontsize=18) \n",
    "        plt.legend(fontsize=18)\n",
    "        plt.grid(True)\n",
    "        plt.title(\"Learning Rate ={}\".format(lr), fontsize=20);\n",
    "\n",
    "        ax = plt.subplot(3,4,k+3)\n",
    "        plt.plot(train_acc_log, lw=2.5, label=str(norm))\n",
    "        plt.xlabel('Iterations', fontsize=18)\n",
    "        plt.ylabel('Train Accuracy', fontsize=18) \n",
    "        plt.legend(fontsize=18)\n",
    "        plt.grid(True)\n",
    "        plt.title(\"Learning Rate ={}\".format(lr), fontsize=20);\n",
    "                \n",
    "        ax = plt.subplot(3,4,k+4)\n",
    "        plt.plot(test_acc_log, lw=2.5, label=str(norm))\n",
    "        plt.xlabel('Iterations', fontsize=18)\n",
    "        plt.ylabel('Test Accuracy', fontsize=18)        \n",
    "        plt.legend(fontsize=18)\n",
    "        plt.grid(True)\n",
    "        plt.title(\"Learning Rate ={}\".format(lr), fontsize=20);\n",
    "    k+= 4\n",
    "plt.tight_layout()\n",
    "plt.savefig(SAVE_PATH+'Act_Norm_Results.pdf', dpi=400)"
   ]
  },
  {
   "cell_type": "code",
   "execution_count": null,
   "metadata": {},
   "outputs": [],
   "source": [
    "k = 0\n",
    "plt.figure(figsize=(18, 15))\n",
    "for i, lr in enumerate(tqdm_notebook(LRS)):    \n",
    "    for j, norm in enumerate(tqdm_notebook(['WN', 'SN', 'MSN'])):\n",
    "        print(k)\n",
    "        train_loss_log = np.load(SAVE_PATH+\"DenseNet_Train_loss_{}_{}.npy\".format(norm,lr) )  \n",
    "        test_loss_log = np.load(SAVE_PATH+\"DenseNet_Test_loss_{}_{}.npy\".format(norm,lr))    \n",
    "        train_acc_log = np.load(SAVE_PATH+\"DenseNet_Train_Acc_{}_{}.npy\".format(norm,lr))    \n",
    "        test_acc_log= np.load(SAVE_PATH+\"DenseNet_Test_Acc_{}_{}.npy\".format(norm,lr))   \n",
    "        \n",
    "        ax = plt.subplot(3,4,k+1)\n",
    "        plt.plot(train_loss_log, lw=2.5, label=str(norm))\n",
    "        plt.xlabel('Iterations', fontsize=18)\n",
    "        plt.ylabel('Train Loss', fontsize=18)     \n",
    "        plt.legend(fontsize=18)\n",
    "        plt.grid(True)\n",
    "        plt.title(\"Learning Rate ={}\".format(lr), fontsize=20);\n",
    "\n",
    "        ax = plt.subplot(3,4,k+2)\n",
    "        plt.plot(test_loss_log, lw=2.5, label=str(norm))\n",
    "        plt.xlabel('Iterations', fontsize=18)\n",
    "        plt.ylabel('Test Loss', fontsize=18) \n",
    "        plt.legend(fontsize=18)\n",
    "        plt.grid(True)\n",
    "        plt.title(\"Learning Rate ={}\".format(lr), fontsize=20);\n",
    "\n",
    "        ax = plt.subplot(3,4,k+3)\n",
    "        plt.plot(train_acc_log, lw=2.5, label=str(norm))\n",
    "        plt.xlabel('Iterations', fontsize=18)\n",
    "        plt.ylabel('Train Accuracy', fontsize=18) \n",
    "        plt.legend(fontsize=18)\n",
    "        plt.grid(True)\n",
    "        plt.title(\"Learning Rate ={}\".format(lr), fontsize=20);\n",
    "                \n",
    "        ax = plt.subplot(3,4,k+4)\n",
    "        plt.plot(test_acc_log, lw=2.5, label=str(norm))\n",
    "        plt.xlabel('Iterations', fontsize=18)\n",
    "        plt.ylabel('Test Accuracy', fontsize=18)        \n",
    "        plt.legend(fontsize=18)\n",
    "        plt.grid(True)\n",
    "        plt.title(\"Learning Rate ={}\".format(lr), fontsize=20);\n",
    "    k+= 4\n",
    "plt.tight_layout()\n",
    "plt.savefig(SAVE_PATH+'Weight_reparam_Results.pdf', dpi=400)"
   ]
  },
  {
   "cell_type": "code",
   "execution_count": null,
   "metadata": {},
   "outputs": [],
   "source": [
    "k = 0\n",
    "plt.figure(figsize=(18, 15))\n",
    "for i, lr in enumerate(tqdm_notebook(LRS)):    \n",
    "    for j, norm in enumerate(tqdm_notebook(['MSNTReLU', 'WNTReLU'])):\n",
    "        print(k)\n",
    "        train_loss_log = np.load(SAVE_PATH+\"DenseNet_Train_loss_{}_{}.npy\".format(norm,lr) )  \n",
    "        test_loss_log = np.load(SAVE_PATH+\"DenseNet_Test_loss_{}_{}.npy\".format(norm,lr))    \n",
    "        train_acc_log = np.load(SAVE_PATH+\"DenseNet_Train_Acc_{}_{}.npy\".format(norm,lr))    \n",
    "        test_acc_log= np.load(SAVE_PATH+\"DenseNet_Test_Acc_{}_{}.npy\".format(norm,lr))   \n",
    "        \n",
    "        ax = plt.subplot(3,4,k+1)\n",
    "        plt.plot(train_loss_log, lw=2.5, label=str(norm))\n",
    "        plt.xlabel('Iterations', fontsize=18)\n",
    "        plt.ylabel('Train Loss', fontsize=18)     \n",
    "        plt.legend(fontsize=18)\n",
    "        plt.grid(True)\n",
    "        plt.title(\"Learning Rate ={}\".format(lr), fontsize=20);\n",
    "\n",
    "        ax = plt.subplot(3,4,k+2)\n",
    "        plt.plot(test_loss_log, lw=2.5, label=str(norm))\n",
    "        plt.xlabel('Iterations', fontsize=18)\n",
    "        plt.ylabel('Test Loss', fontsize=18) \n",
    "        plt.legend(fontsize=18)\n",
    "        plt.grid(True)\n",
    "        plt.title(\"Learning Rate ={}\".format(lr), fontsize=20);\n",
    "\n",
    "        ax = plt.subplot(3,4,k+3)\n",
    "        plt.plot(train_acc_log, lw=2.5, label=str(norm))\n",
    "        plt.xlabel('Iterations', fontsize=18)\n",
    "        plt.ylabel('Train Accuracy', fontsize=18) \n",
    "        plt.legend(fontsize=18)\n",
    "        plt.grid(True)\n",
    "        plt.title(\"Learning Rate ={}\".format(lr), fontsize=20);\n",
    "                \n",
    "        ax = plt.subplot(3,4,k+4)\n",
    "        plt.plot(test_acc_log, lw=2.5, label=str(norm))\n",
    "        plt.xlabel('Iterations', fontsize=18)\n",
    "        plt.ylabel('Test Accuracy', fontsize=18)        \n",
    "        plt.legend(fontsize=18)\n",
    "        plt.grid(True)\n",
    "        plt.title(\"Learning Rate ={}\".format(lr), fontsize=20);\n",
    "    k+= 4\n",
    "plt.tight_layout()\n",
    "plt.savefig(SAVE_PATH+'Weight_reparam_act_Results.pdf', dpi=400)"
   ]
  },
  {
   "cell_type": "code",
   "execution_count": null,
   "metadata": {},
   "outputs": [],
   "source": []
  }
 ],
 "metadata": {
  "kernelspec": {
   "display_name": "Python 3",
   "language": "python",
   "name": "python3"
  },
  "language_info": {
   "codemirror_mode": {
    "name": "ipython",
    "version": 3
   },
   "file_extension": ".py",
   "mimetype": "text/x-python",
   "name": "python",
   "nbconvert_exporter": "python",
   "pygments_lexer": "ipython3",
   "version": "3.7.3"
  }
 },
 "nbformat": 4,
 "nbformat_minor": 2
}
